{
 "cells": [
  {
   "cell_type": "markdown",
   "id": "2f63671c-094f-4c87-9b76-04ed66798165",
   "metadata": {},
   "source": [
    "# What Is Data Science?"
   ]
  },
  {
   "cell_type": "markdown",
   "id": "313807f1-d782-40c5-9468-2fd57a2ee92f",
   "metadata": {},
   "source": [
    "> It was impossible to get a conversation going, everybody was talking too much.\n",
    ">\n",
    "> -- <cite>Yogi Berra</cite>"
   ]
  },
  {
   "cell_type": "markdown",
   "id": "cc2cc952-3ed4-4416-ac1c-0f80dc1a3ed5",
   "metadata": {},
   "source": [
    "Ask ten different people what Data Science is and you'll very likely get ten different answers. It's a loaded question clouded by buzz words, assumptions, and domain specific interpretations.\n",
    "\n",
    "Words matter.  We use them to compartmentalize and categorize.  We use them to convey information so others will understand our meaning. To the extent that we need overselves and others to comprehend what we're talking about and understand us, these words matter.  Beyond this comprehension, I would argue there's little practical value in getting too hung up on what is or isn't include under some field of study or in a taxonomy of definitions.\n",
    "\n",
    "For our purposes, what really matters at the end of the day is that you're able to:\n",
    "\n",
    " - Understand what _other_ people are talking about\n",
    " - Convey your message in such a way that others are able to understand what _you_ are talking about\n",
    " - Focus on the important things, which is understanding the objectives, value potential, and how to solve a problem\n",
    "\n",
    "<br>"
   ]
  },
  {
   "cell_type": "markdown",
   "id": "6892873d-976e-4b0d-9de8-e3ec1a2c0bc2",
   "metadata": {},
   "source": [
    "To get us started, let's begin with a simple venn diagram.  In {numref}`AI_venn-fig` you can see a nested view of what're going to cover in this book.  Probably the most common term being thrown around today in our field is \"Artificial Intelligence\", or AI.  It has become so commonplace and ubiquitous in business and everyday circles, we've actually \"crossed the chasm\" and are somewhere between Early and Late Marjority users.  If you're not already casually throwing around the word \"AI\" at this point, don't worry.  You will be soon."
   ]
  },
  {
   "cell_type": "markdown",
   "id": "c0d72890-fef1-4880-963b-6f820298a3ba",
   "metadata": {},
   "source": [
    "<br>\n",
    "\n",
    "```{figure} ../images/AI_venn.png\n",
    "---\n",
    "width: 700px\n",
    "name: AI_venn-fig\n",
    "---\n",
    "Artificial Intelligence Venn Diagram\n",
    "```"
   ]
  },
  {
   "cell_type": "markdown",
   "id": "b9fd1028-50b1-4d05-8e84-89a4b5971145",
   "metadata": {},
   "source": [
    "Data Science is a subset that falls under this AI umbrella term.  This higher level includes a wide assortment of fields of study, from robotics, hardware/software, research, linguistics, vision systems, and applied mathematical theory, to name a few, all to study or design systems intended to _mimic human intelligence_.  **Data Science** can be generally thought of as an \"applied\" branch of AI, where we'll use use the tools, theory, and methodologies contained under AI to study or solve some kind of problem or question."
   ]
  },
  {
   "cell_type": "markdown",
   "id": "08a8a137-3e87-4c7f-b181-ad90c3bf1504",
   "metadata": {},
   "source": [
    "```{note}\n",
    "Data Science is a field of study which analyzes data to find patterns and extract meaningful insights.\n",
    "```\n",
    "<br>"
   ]
  },
  {
   "cell_type": "markdown",
   "id": "5c921aa0-bede-4f16-9ea6-3269f4b8d715",
   "metadata": {},
   "source": [
    "Seems straightforward enough.  Doesn't it seem a little broad though?  \n",
    "\n",
    "Does this mean that anyone looking at data and finds anything interesting is doing data science work?  Probably not.  With this definition, anyone from a busines analyst to the CEO could be engaged in data science work.  While possible, it's most likely not the case.  We should be able arrive at a more satisfactory understanding if we tease out and add a few layers of contextualization to help make it more clear.\n",
    "\n",
    "What additional information might you want to know to help us understand what we're talking about?  How about if we knew the following?\n",
    "\n",
    "1. What kinds of problems a Data Scientist solves\n",
    "2. The fields of study a Data Scientist uses\n",
    "3. What skills and tools a Data Scientist employs\n",
    "4. What Roles play a part in the end-to-end Data Science workflow\r\n",
    "\n",
    "<br>\n",
    "\n",
    "Equipped with answers to these questions we should be able to expand on our early definition, which is where we go next."
   ]
  }
 ],
 "metadata": {
  "kernelspec": {
   "display_name": "Python 3 (ipykernel)",
   "language": "python",
   "name": "python3"
  },
  "language_info": {
   "codemirror_mode": {
    "name": "ipython",
    "version": 3
   },
   "file_extension": ".py",
   "mimetype": "text/x-python",
   "name": "python",
   "nbconvert_exporter": "python",
   "pygments_lexer": "ipython3",
   "version": "3.11.5"
  }
 },
 "nbformat": 4,
 "nbformat_minor": 5
}
